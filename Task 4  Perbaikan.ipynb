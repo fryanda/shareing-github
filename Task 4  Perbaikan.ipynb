{
 "cells": [
  {
   "cell_type": "markdown",
   "metadata": {},
   "source": [
    "# Perbaikan"
   ]
  },
  {
   "cell_type": "markdown",
   "metadata": {},
   "source": [
    "# Task 1 : Limit"
   ]
  },
  {
   "cell_type": "markdown",
   "metadata": {},
   "source": [
    "langkah pertama dalam mengerjakan soal limit, kita terlebih dahulu mengimpor limit dari sympy seperti berikut."
   ]
  },
  {
   "cell_type": "code",
   "execution_count": 3,
   "metadata": {},
   "outputs": [],
   "source": [
    "from sympy import limit"
   ]
  },
  {
   "cell_type": "markdown",
   "metadata": {},
   "source": [
    "setelah melakukan langkah pertama kemudia kita melakukan import x sebagai simbol karena pada bagian soal terdapat simbol x. kemudian menulis soal seperti berikut ini."
   ]
  },
  {
   "cell_type": "code",
   "execution_count": 4,
   "metadata": {},
   "outputs": [
    {
     "data": {
      "text/latex": [
       "$\\displaystyle 2$"
      ],
      "text/plain": [
       "2"
      ]
     },
     "execution_count": 4,
     "metadata": {},
     "output_type": "execute_result"
    }
   ],
   "source": [
    "from sympy.abc import x\n",
    "limit((3*x**2-14*x+8)/(x**2-3*x-4),x,4)"
   ]
  },
  {
   "cell_type": "markdown",
   "metadata": {},
   "source": [
    "# Task 2 : Referential"
   ]
  },
  {
   "cell_type": "markdown",
   "metadata": {},
   "source": [
    "langkah pertama kita melakukan import sympy as sym seperti di bawah ini untuk mengerjakan soal turunan yang diikuti dengan simbol z yang sesuai dengan variabel yang ada pada soal."
   ]
  },
  {
   "cell_type": "code",
   "execution_count": 5,
   "metadata": {},
   "outputs": [
    {
     "name": "stdout",
     "output_type": "stream",
     "text": [
      "soal nomor 3\n"
     ]
    },
    {
     "data": {
      "image/png": "[encoded data removed]",
      "text/latex": [
       "$\\displaystyle \\frac{d}{d z} \\left(4 z^{7} + 9 z - \\frac{3}{z^{7}}\\right)$"
      ],
      "text/plain": [
       "d ⎛   7         3 ⎞\n",
       "──⎜4⋅z  + 9⋅z - ──⎟\n",
       "dz⎜              7⎟\n",
       "  ⎝             z ⎠"
      ]
     },
     "execution_count": 5,
     "metadata": {},
     "output_type": "execute_result"
    }
   ],
   "source": [
    "import sympy as sym\n",
    "sym.init_printing()\n",
    "z = sym.Symbol(\"z\")\n",
    "print(\"soal nomor 3\")\n",
    "y=  4*z**7-3*z**-7+9*z\n",
    "sym.Derivative(y)"
   ]
  },
  {
   "cell_type": "code",
   "execution_count": 6,
   "metadata": {},
   "outputs": [
    {
     "name": "stdout",
     "output_type": "stream",
     "text": [
      "penyelesaian: \n"
     ]
    },
    {
     "data": {
      "image/png": "[encoded data removed]",
      "text/latex": [
       "$\\displaystyle 28 z^{6} + 9 + \\frac{21}{z^{8}}$"
      ],
      "text/plain": [
       "    6       21\n",
       "28⋅z  + 9 + ──\n",
       "             8\n",
       "            z "
      ]
     },
     "execution_count": 6,
     "metadata": {},
     "output_type": "execute_result"
    }
   ],
   "source": [
    "print(\"penyelesaian: \")\n",
    "\n",
    "sym.Derivative(y).doit()"
   ]
  },
  {
   "cell_type": "markdown",
   "metadata": {},
   "source": [
    "karena pada sebelumnya variabel z telah di impor jadi tidak perlu lagi mengimpor z, karena hanya perlu menuliskan sintaks soal seperti di bawah ini"
   ]
  },
  {
   "cell_type": "code",
   "execution_count": 7,
   "metadata": {},
   "outputs": [
    {
     "name": "stdout",
     "output_type": "stream",
     "text": [
      "soal nomor 8\n"
     ]
    },
    {
     "data": {
      "image/png": "[encoded data removed]",
      "text/latex": [
       "$\\displaystyle \\frac{d}{d z} \\left(\\frac{6}{\\sqrt{z^{3}}} + \\frac{1}{8 z^{4}} - \\frac{1}{3 z^{10}}\\right)$"
      ],
      "text/plain": [
       "d ⎛   6       1       1  ⎞\n",
       "──⎜─────── + ──── - ─────⎟\n",
       "dz⎜   ____      4      10⎟\n",
       "  ⎜  ╱  3    8⋅z    3⋅z  ⎟\n",
       "  ⎝╲╱  z                 ⎠"
      ]
     },
     "execution_count": 7,
     "metadata": {},
     "output_type": "execute_result"
    }
   ],
   "source": [
    "print(\"soal nomor 8\")\n",
    "R = 6/(sym.sqrt(z**3))+1/(8*z**4)-1/(3*z**10)\n",
    "sym.Derivative(R)"
   ]
  },
  {
   "cell_type": "markdown",
   "metadata": {},
   "source": [
    " dan untuk menampilkan hasil masukkan perintah seperti berikut ini"
   ]
  },
  {
   "cell_type": "code",
   "execution_count": 8,
   "metadata": {},
   "outputs": [
    {
     "name": "stdout",
     "output_type": "stream",
     "text": [
      "penyelesaian: \n"
     ]
    },
    {
     "data": {
      "image/png": "[encoded data removed]",
      "text/latex": [
       "$\\displaystyle - \\frac{9}{z \\sqrt{z^{3}}} - \\frac{1}{2 z^{5}} + \\frac{10}{3 z^{11}}$"
      ],
      "text/plain": [
       "      9        1       10 \n",
       "- ───────── - ──── + ─────\n",
       "       ____      5      11\n",
       "      ╱  3    2⋅z    3⋅z  \n",
       "  z⋅╲╱  z                 "
      ]
     },
     "execution_count": 8,
     "metadata": {},
     "output_type": "execute_result"
    }
   ],
   "source": [
    "print(\"penyelesaian: \")\n",
    "sym.Derivative(R).doit()"
   ]
  },
  {
   "cell_type": "markdown",
   "metadata": {},
   "source": [
    "pertama impor x dari sympy selaku variabel kemudia masukkan sintaks soal  berikut."
   ]
  },
  {
   "cell_type": "code",
   "execution_count": 9,
   "metadata": {},
   "outputs": [
    {
     "name": "stdout",
     "output_type": "stream",
     "text": [
      "soal nomor 13\n"
     ]
    },
    {
     "data": {
      "image/png": "[encoded data removed]",
      "text/latex": [
       "$\\displaystyle \\frac{d}{d x} \\left(x^{3} + 9 x^{2} - 48 x + 2\\right)$"
      ],
      "text/plain": [
       "d ⎛ 3      2           ⎞\n",
       "──⎝x  + 9⋅x  - 48⋅x + 2⎠\n",
       "dx                      "
      ]
     },
     "execution_count": 9,
     "metadata": {},
     "output_type": "execute_result"
    }
   ],
   "source": [
    "print(\"soal nomor 13\")\n",
    "x = sym.Symbol(\"x\")\n",
    "y = x**3+9*x**2-48*x+2\n",
    "sym.Derivative(y)"
   ]
  },
  {
   "cell_type": "markdown",
   "metadata": {},
   "source": [
    "setelah itu masukkan sintaks berikut untuk menampilkan hasil"
   ]
  },
  {
   "cell_type": "code",
   "execution_count": 10,
   "metadata": {},
   "outputs": [
    {
     "name": "stdout",
     "output_type": "stream",
     "text": [
      "penyelesaian: \n"
     ]
    },
    {
     "data": {
      "image/png": "[encoded data removed]",
      "text/latex": [
       "$\\displaystyle 3 x^{2} + 18 x - 48$"
      ],
      "text/plain": [
       "   2            \n",
       "3⋅x  + 18⋅x - 48"
      ]
     },
     "execution_count": 10,
     "metadata": {},
     "output_type": "execute_result"
    }
   ],
   "source": [
    "print(\"penyelesaian: \")\n",
    "sym.Derivative(y).doit()"
   ]
  },
  {
   "cell_type": "markdown",
   "metadata": {},
   "source": [
    "seperti pada sebelumnya telah mengimpor variabel z jadi langsung masukkan sintaks untuk mengerjakan soal"
   ]
  },
  {
   "cell_type": "code",
   "execution_count": 11,
   "metadata": {},
   "outputs": [
    {
     "name": "stdout",
     "output_type": "stream",
     "text": [
      "soal nomor 18\n"
     ]
    },
    {
     "data": {
      "image/png": "[encoded data removed]",
      "text/latex": [
       "$\\displaystyle \\frac{d}{d z} \\left(- 4 z^{5} - 5 z^{4} + 40 z^{3} + 6\\right)$"
      ],
      "text/plain": [
       "d ⎛     5      4       3    ⎞\n",
       "──⎝- 4⋅z  - 5⋅z  + 40⋅z  + 6⎠\n",
       "dz                           "
      ]
     },
     "execution_count": 11,
     "metadata": {},
     "output_type": "execute_result"
    }
   ],
   "source": [
    "print(\"soal nomor 18\")\n",
    "h = 6+40*z**3-5*z**4-4*z**5\n",
    "sym.Derivative(h)"
   ]
  },
  {
   "cell_type": "markdown",
   "metadata": {},
   "source": [
    "setelah itu masukkan sintakas untuk menampilkan hasil"
   ]
  },
  {
   "cell_type": "code",
   "execution_count": 12,
   "metadata": {},
   "outputs": [
    {
     "name": "stdout",
     "output_type": "stream",
     "text": [
      "penyelesaian: \n"
     ]
    },
    {
     "data": {
      "image/png": "[encoded data removed]",
      "text/latex": [
       "$\\displaystyle - 20 z^{4} - 20 z^{3} + 120 z^{2}$"
      ],
      "text/plain": [
       "      4       3        2\n",
       "- 20⋅z  - 20⋅z  + 120⋅z "
      ]
     },
     "execution_count": 12,
     "metadata": {},
     "output_type": "execute_result"
    }
   ],
   "source": [
    "print(\"penyelesaian: \")\n",
    "sym.Derivative(h).doit()"
   ]
  },
  {
   "cell_type": "markdown",
   "metadata": {},
   "source": [
    "# Task 3 : Integral"
   ]
  },
  {
   "cell_type": "markdown",
   "metadata": {},
   "source": [
    "langkah pertama masukkan sintaks untuk mengerjakan soal integral  di bawah ini."
   ]
  },
  {
   "cell_type": "code",
   "execution_count": 13,
   "metadata": {},
   "outputs": [],
   "source": [
    "import sympy as sym\n",
    "from sympy import *\n",
    "sym.init_printing()\n",
    "x , t = sym.symbols('x t')"
   ]
  },
  {
   "cell_type": "markdown",
   "metadata": {},
   "source": [
    "setelah import semua variabel, dan kemudian langsung masukkan sintaks untuk mengerjakan soal."
   ]
  },
  {
   "cell_type": "code",
   "execution_count": 14,
   "metadata": {},
   "outputs": [
    {
     "name": "stdout",
     "output_type": "stream",
     "text": [
      "soal nomor 3: \n"
     ]
    },
    {
     "data": {
      "image/png": "[encoded data removed]",
      "text/latex": [
       "$\\displaystyle \\int \\left(4 t^{4} + \\frac{10}{t^{3}} + \\frac{12}{t^{9}}\\right)\\, dt$"
      ],
      "text/plain": [
       "⌠                    \n",
       "⎮ ⎛   4   10   12⎞   \n",
       "⎮ ⎜4⋅t  + ── + ──⎟ dt\n",
       "⎮ ⎜        3    9⎟   \n",
       "⎮ ⎝       t    t ⎠   \n",
       "⌡                    "
      ]
     },
     "execution_count": 14,
     "metadata": {},
     "output_type": "execute_result"
    }
   ],
   "source": [
    "print('soal nomor 3: ')\n",
    "sym.Integral (10*t**-3+12*t**-9+4*t**3*t)"
   ]
  },
  {
   "cell_type": "markdown",
   "metadata": {},
   "source": [
    "kemudian masukkan sintaks untuk mendapatkan hasil."
   ]
  },
  {
   "cell_type": "code",
   "execution_count": 15,
   "metadata": {},
   "outputs": [
    {
     "name": "stdout",
     "output_type": "stream",
     "text": [
      "penyelesaian: \n"
     ]
    },
    {
     "data": {
      "image/png": "[encoded data removed]",
      "text/latex": [
       "$\\displaystyle \\frac{4 t^{5}}{5} - \\frac{10 t^{6} + 3}{2 t^{8}}$"
      ],
      "text/plain": [
       "   5       6    \n",
       "4⋅t    10⋅t  + 3\n",
       "──── - ─────────\n",
       " 5           8  \n",
       "          2⋅t   "
      ]
     },
     "execution_count": 15,
     "metadata": {},
     "output_type": "execute_result"
    }
   ],
   "source": [
    "print('penyelesaian: ')\n",
    "sym.integrate (10*t**-3+12*t**-9+4*t**3*t)"
   ]
  },
  {
   "cell_type": "markdown",
   "metadata": {},
   "source": [
    "setelah itu lakukan hal yang sama untuk mengerjakan soal nomor 8"
   ]
  },
  {
   "cell_type": "code",
   "execution_count": 16,
   "metadata": {},
   "outputs": [
    {
     "name": "stdout",
     "output_type": "stream",
     "text": [
      "soal nomor 8: \n"
     ]
    },
    {
     "data": {
      "image/png": "[encoded data removed]",
      "text/latex": [
       "$\\displaystyle \\int \\left(- 0.125 x^{4} + 2 + \\frac{4}{x^{2}}\\right)\\, dx$"
      ],
      "text/plain": [
       "⌠                         \n",
       "⎮ ⎛         4       4 ⎞   \n",
       "⎮ ⎜- 0.125⋅x  + 2 + ──⎟ dx\n",
       "⎮ ⎜                  2⎟   \n",
       "⎮ ⎝                 x ⎠   \n",
       "⌡                         "
      ]
     },
     "execution_count": 16,
     "metadata": {},
     "output_type": "execute_result"
    }
   ],
   "source": [
    "print ('soal nomor 8: ')\n",
    "sym.Integral (4*x**-2+2-1/8*x**3*x)"
   ]
  },
  {
   "cell_type": "markdown",
   "metadata": {},
   "source": [
    "kemudian masukkan sintaks untuk menampilkan hasil"
   ]
  },
  {
   "cell_type": "code",
   "execution_count": 17,
   "metadata": {},
   "outputs": [
    {
     "name": "stdout",
     "output_type": "stream",
     "text": [
      "penyelesaian: \n"
     ]
    },
    {
     "data": {
      "image/png": "[encoded data removed]",
      "text/latex": [
       "$\\displaystyle - 0.025 x^{5} + 2.0 x - \\frac{4.0}{x}$"
      ],
      "text/plain": [
       "         5           4.0\n",
       "- 0.025⋅x  + 2.0⋅x - ───\n",
       "                      x "
      ]
     },
     "execution_count": 17,
     "metadata": {},
     "output_type": "execute_result"
    }
   ],
   "source": [
    "print ('penyelesaian: ')\n",
    "sym.integrate (4*x**-2+2-1/8*x**3*x)"
   ]
  },
  {
   "cell_type": "code",
   "execution_count": null,
   "metadata": {},
   "outputs": [],
   "source": []
  }
 ],
 "metadata": {
  "kernelspec": {
   "display_name": "Python 3",
   "language": "python",
   "name": "python3"
  },
  "language_info": {
   "codemirror_mode": {
    "name": "ipython",
    "version": 3
   },
   "file_extension": ".py",
   "mimetype": "text/x-python",
   "name": "python",
   "nbconvert_exporter": "python",
   "pygments_lexer": "ipython3",
   "version": "3.7.3"
  }
 },
 "nbformat": 4,
 "nbformat_minor": 2
}
