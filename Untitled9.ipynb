{
 "cells": [
  {
   "cell_type": "code",
   "execution_count": 1,
   "metadata": {},
   "outputs": [
    {
     "ename": "ModuleNotFoundError",
     "evalue": "No module named 'cv2'",
     "output_type": "error",
     "traceback": [
      "\u001b[1;31m---------------------------------------------------------------------------\u001b[0m",
      "\u001b[1;31mModuleNotFoundError\u001b[0m                       Traceback (most recent call last)",
      "\u001b[1;32m<ipython-input-1-f1f27476e172>\u001b[0m in \u001b[0;36m<module>\u001b[1;34m\u001b[0m\n\u001b[0;32m      1\u001b[0m \u001b[1;32mimport\u001b[0m \u001b[0mnumpy\u001b[0m \u001b[1;32mas\u001b[0m \u001b[0mnp\u001b[0m\u001b[1;33m\u001b[0m\u001b[1;33m\u001b[0m\u001b[0m\n\u001b[1;32m----> 2\u001b[1;33m \u001b[1;32mimport\u001b[0m \u001b[0mcv2\u001b[0m\u001b[1;33m\u001b[0m\u001b[1;33m\u001b[0m\u001b[0m\n\u001b[0m\u001b[0;32m      3\u001b[0m \u001b[1;32mimport\u001b[0m \u001b[0msys\u001b[0m\u001b[1;33m\u001b[0m\u001b[1;33m\u001b[0m\u001b[0m\n\u001b[0;32m      4\u001b[0m \u001b[1;33m\u001b[0m\u001b[0m\n\u001b[0;32m      5\u001b[0m \u001b[0mnRows\u001b[0m \u001b[1;33m=\u001b[0m \u001b[1;36m6\u001b[0m\u001b[1;33m\u001b[0m\u001b[1;33m\u001b[0m\u001b[0m\n",
      "\u001b[1;31mModuleNotFoundError\u001b[0m: No module named 'cv2'"
     ]
    }
   ],
   "source": [
    "import numpy as np\n",
    "import cv2\n",
    "import sys\n",
    "\n",
    "nRows = 6\n",
    "nCols = 7\n",
    "dimension = 25\n",
    "\n",
    "criteria = (cv2.TERM_CRITERIA_EPS + cv2.TERM_CRITERIA_MAX_ITER, dimension, 0.001)\n",
    "\n",
    "objp = np.zeros((nRows*nCols, 3), np.float32)\n",
    "objp[:, :2] = np.mgrid[0:nCols, 0:nRows].T.reshape(-1, 2)\n",
    "\n",
    "objpoints = []\n",
    "imgpoints = []\n",
    "\n",
    "cap = cv2.VideoCapture(0)\n",
    "if cap.isOpened() == True:\n",
    "    print('Kamera Açıldı')\n",
    "\n",
    "else:\n",
    "    print('HATA!! \\nKamera Açılamadı!!')\n",
    "    exit(1)\n",
    "\n",
    "\n",
    "while (True):\n",
    "    try:\n",
    "        ret, frame = cap.read()\n",
    "        if ret != True:\n",
    "            print('HATA!! Frame Alınamıyor \\nYeniden Başlatın'),\n",
    "            cv2.destroyAllWindows()\n",
    "            cap.release()\n",
    "            break\n",
    "            exit(1)\n",
    "        frame = cv2.resize(frame, (1024, 768), interpolation=cv2.INTER_LINEAR)\n",
    "        gray = cv2.cvtColor(frame,cv2.COLOR_BGR2GRAY)\n",
    "\n",
    "        ret1, corners = cv2.findChessboardCorners(gray, (nCols, nRows), None)\n",
    "        if ret1 == True:\n",
    "            corners1 = cv2.cornerSubPix(gray, corners, (11, 11), (-1, -1), criteria)\n",
    "            cv2.drawChessboardCorners(frame, (nCols, nRows), corners1, ret)\n",
    "            imgpoints.append(corners)\n",
    "            objpoints.append(objp)\n",
    "        cv2.imshow('frame', frame)\n",
    "\n",
    "        k = cv2.waitKey(5) & 0xFF\n",
    "        if k == 27:\n",
    "            print(\"Çıkış Yapıldı\")\n",
    "            break\n",
    "    except:\n",
    "        print(\"Beklenmedik Hata!!! \", sys.exc_info()[0])\n",
    "        raise\n",
    "\n",
    "cv2.destroyAllWindows()\n",
    "cap.release()"
   ]
  },
  {
   "cell_type": "code",
   "execution_count": null,
   "metadata": {},
   "outputs": [],
   "source": []
  }
 ],
 "metadata": {
  "kernelspec": {
   "display_name": "Python 3",
   "language": "python",
   "name": "python3"
  },
  "language_info": {
   "codemirror_mode": {
    "name": "ipython",
    "version": 3
   },
   "file_extension": ".py",
   "mimetype": "text/x-python",
   "name": "python",
   "nbconvert_exporter": "python",
   "pygments_lexer": "ipython3",
   "version": "3.7.3"
  }
 },
 "nbformat": 4,
 "nbformat_minor": 2
}
